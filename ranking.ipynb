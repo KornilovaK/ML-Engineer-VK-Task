{
  "cells": [
    {
      "cell_type": "code",
      "execution_count": 46,
      "metadata": {
        "id": "TnoVer04RDIm",
        "scrolled": true
      },
      "outputs": [],
      "source": [
        "from catboost import CatBoostRanker, Pool\n",
        "import numpy as np\n",
        "import os\n",
        "import pandas as pd\n",
        "\n",
        "from sklearn.metrics import ndcg_score\n",
        "from sklearn.feature_selection import VarianceThreshold\n",
        "from sklearn.preprocessing import StandardScaler"
      ]
    },
    {
      "cell_type": "markdown",
      "metadata": {
        "id": "DifaweWwOi0M"
      },
      "source": []
    },
    {
      "cell_type": "code",
      "execution_count": 2,
      "metadata": {
        "id": "1EksTiwvSVbA"
      },
      "outputs": [],
      "source": [
        "df = pd.read_csv('data/intern_task.csv')\n",
        "df = df.sort_values(by='query_id').reset_index(drop=True)"
      ]
    },
    {
      "cell_type": "code",
      "execution_count": 3,
      "metadata": {
        "id": "Deux6L4AYfBo"
      },
      "outputs": [],
      "source": [
        "corr = df.corr()\n",
        "# corr.head()"
      ]
    },
    {
      "cell_type": "code",
      "execution_count": 4,
      "metadata": {
        "id": "OajE58LnYjA1"
      },
      "outputs": [],
      "source": [
        "# sns.heatmap(corr)"
      ]
    },
    {
      "cell_type": "code",
      "execution_count": 5,
      "metadata": {
        "id": "NczYiemHX-MP"
      },
      "outputs": [],
      "source": [
        "columns = np.full((corr.shape[0],), True, dtype=bool)\n",
        "for i in range(corr.shape[0]):\n",
        "    for j in range(i+1, corr.shape[0]):\n",
        "        if corr.iloc[i,j] >= 0.9:\n",
        "            if columns[j]:\n",
        "                columns[j] = False"
      ]
    },
    {
      "cell_type": "code",
      "execution_count": 6,
      "metadata": {
        "colab": {
          "base_uri": "https://localhost:8080/"
        },
        "id": "UKMoOt62Y2k5",
        "outputId": "7e3fef3e-94db-4363-f20d-ef500e48d4ae"
      },
      "outputs": [
        {
          "data": {
            "text/plain": [
              "(81,)"
            ]
          },
          "execution_count": 6,
          "metadata": {},
          "output_type": "execute_result"
        }
      ],
      "source": [
        "selected_columns = df.columns[columns]\n",
        "selected_columns.shape"
      ]
    },
    {
      "cell_type": "code",
      "execution_count": 7,
      "metadata": {
        "id": "Ya7ehcLWZAXe"
      },
      "outputs": [],
      "source": [
        "df = df[selected_columns]"
      ]
    },
    {
      "cell_type": "code",
      "execution_count": 8,
      "metadata": {
        "id": "RgJD7KR1jmiQ"
      },
      "outputs": [],
      "source": [
        "features = df.columns.values[2:]"
      ]
    },
    {
      "cell_type": "code",
      "execution_count": 9,
      "metadata": {
        "id": "hgvgYodhlPhx"
      },
      "outputs": [],
      "source": [
        "scaler = StandardScaler()\n",
        "df[features] = scaler.fit_transform(df[features])"
      ]
    },
    {
      "cell_type": "code",
      "execution_count": 10,
      "metadata": {
        "id": "nyAm4JaiA7Bd"
      },
      "outputs": [],
      "source": [
        "df = df.groupby(['query_id', 'rank']).mean().reset_index()"
      ]
    },
    {
      "cell_type": "code",
      "execution_count": 11,
      "metadata": {
        "id": "z_RmqAh4iu0f"
      },
      "outputs": [],
      "source": [
        "sel = VarianceThreshold(threshold=(.8 * (1 - .8)))\n",
        "features_fitted = sel.fit_transform(df[features]).T"
      ]
    },
    {
      "cell_type": "code",
      "execution_count": 12,
      "metadata": {
        "colab": {
          "base_uri": "https://localhost:8080/"
        },
        "id": "x_kQsXXal8WH",
        "outputId": "2874af51-c736-474b-a3d0-578961945572"
      },
      "outputs": [
        {
          "name": "stdout",
          "output_type": "stream",
          "text": [
            "(79, 7515) (70, 7515)\n"
          ]
        }
      ],
      "source": [
        "feats = df[features].to_numpy().T\n",
        "print(feats.shape, features_fitted.shape)"
      ]
    },
    {
      "cell_type": "code",
      "execution_count": 13,
      "metadata": {
        "id": "Zjrt-9lonEpw"
      },
      "outputs": [],
      "source": [
        "# for i in range(len(feats)):\n",
        "#   for j in range(len(features_fitted)):\n",
        "#     if (feats[i] == features_fitted[j]).sum() == 7515:\n",
        "#       print(i, j)\n",
        "#       break"
      ]
    },
    {
      "cell_type": "code",
      "execution_count": 14,
      "metadata": {
        "id": "W3G75FDepaR0"
      },
      "outputs": [],
      "source": [
        "drop_ind = [9, 10, 28, 45, 46, 51, 60, 62, 70]"
      ]
    },
    {
      "cell_type": "code",
      "execution_count": 15,
      "metadata": {
        "colab": {
          "base_uri": "https://localhost:8080/"
        },
        "id": "Glj7_F25Yx2n",
        "outputId": "0ee4582d-f671-48c2-b6b4-ece74414c458"
      },
      "outputs": [
        {
          "data": {
            "text/plain": [
              "['feature_11',\n",
              " 'feature_12',\n",
              " 'feature_41',\n",
              " 'feature_64',\n",
              " 'feature_65',\n",
              " 'feature_72',\n",
              " 'feature_100',\n",
              " 'feature_105',\n",
              " 'feature_128']"
            ]
          },
          "execution_count": 15,
          "metadata": {},
          "output_type": "execute_result"
        }
      ],
      "source": [
        "cols = df.columns.values[2:]\n",
        "drop_cols = [cols[i] for i in drop_ind]\n",
        "drop_cols"
      ]
    },
    {
      "cell_type": "code",
      "execution_count": 16,
      "metadata": {
        "id": "fJVkFHS7YiJu"
      },
      "outputs": [],
      "source": [
        "df = df.drop(drop_cols, axis=1)"
      ]
    },
    {
      "cell_type": "code",
      "execution_count": 17,
      "metadata": {
        "colab": {
          "base_uri": "https://localhost:8080/"
        },
        "id": "FVcdGMD3Sj8q",
        "outputId": "c0685573-a5e6-459d-d2f7-88ef17d6380c"
      },
      "outputs": [
        {
          "name": "stdout",
          "output_type": "stream",
          "text": [
            "2000 24010\n"
          ]
        }
      ],
      "source": [
        "ids = df.query_id.unique()\n",
        "train_size = round(len(ids) * 0.8)\n",
        "last_train = ids[train_size]\n",
        "\n",
        "print(len(ids), last_train)"
      ]
    },
    {
      "cell_type": "code",
      "execution_count": 18,
      "metadata": {
        "id": "18hEnBtsCbbv"
      },
      "outputs": [],
      "source": [
        "# df[df.query_id == last_train]"
      ]
    },
    {
      "cell_type": "code",
      "execution_count": 19,
      "metadata": {
        "id": "_Kxu9sJWS2ED"
      },
      "outputs": [],
      "source": [
        "test_index = 6010\n",
        "train_df, test_df = df[:test_index],  df[test_index:]"
      ]
    },
    {
      "cell_type": "code",
      "execution_count": 44,
      "metadata": {},
      "outputs": [],
      "source": [
        "train_df.to_csv('data/train.csv')\n",
        "test_df.to_csv('data/test.csv')"
      ]
    },
    {
      "cell_type": "code",
      "execution_count": 20,
      "metadata": {
        "id": "2UIH0ERyUvY6"
      },
      "outputs": [],
      "source": [
        "X_train = train_df.drop(['rank', 'query_id'], axis=1).values\n",
        "y_train = train_df['rank'].values\n",
        "queries_train = train_df['query_id'].values\n",
        "\n",
        "X_test = test_df.drop(['rank', 'query_id'], axis=1).values\n",
        "y_test = test_df['rank'].values\n",
        "queries_test = test_df['query_id'].values"
      ]
    },
    {
      "cell_type": "code",
      "execution_count": 21,
      "metadata": {
        "id": "yAyYyVzqVmgo"
      },
      "outputs": [],
      "source": [
        "y_train = y_train.astype('float64')\n",
        "y_test = y_test.astype('float64')"
      ]
    },
    {
      "cell_type": "code",
      "execution_count": 22,
      "metadata": {
        "id": "2aA3Pmd2RDIz",
        "scrolled": true
      },
      "outputs": [],
      "source": [
        "max_relevance = np.max(y_train)\n",
        "y_train /= max_relevance\n",
        "y_test /= max_relevance"
      ]
    },
    {
      "cell_type": "code",
      "execution_count": 26,
      "metadata": {},
      "outputs": [],
      "source": [
        "def create_weights(queries):\n",
        "    query_set = np.unique(queries)\n",
        "    query_weights = np.random.uniform(size=query_set.shape[0])\n",
        "    weights = np.zeros(shape=queries.shape)\n",
        "\n",
        "    for i, query_id in enumerate(query_set):\n",
        "        weights[queries == query_id] = query_weights[i]\n",
        "\n",
        "    return weights"
      ]
    },
    {
      "cell_type": "code",
      "execution_count": 27,
      "metadata": {
        "colab": {
          "base_uri": "https://localhost:8080/",
          "height": 109,
          "referenced_widgets": [
            "c44499a067114176ac5b28d844a6d3e1"
          ]
        },
        "id": "rerqIDr94txH",
        "outputId": "3ec63b0b-92ee-48cf-e615-71cc3c3bb2a1"
      },
      "outputs": [],
      "source": [
        "train_with_weights = Pool(\n",
        "    data=X_train,\n",
        "    label=y_train,\n",
        "    group_weight=create_weights(queries_train),\n",
        "    group_id=queries_train\n",
        ")\n",
        "\n",
        "test_with_weights = Pool(\n",
        "    data=X_test,\n",
        "    label=y_test,\n",
        "    group_weight=create_weights(queries_test),\n",
        "    group_id=queries_test\n",
        ")"
      ]
    },
    {
      "cell_type": "code",
      "execution_count": 31,
      "metadata": {},
      "outputs": [],
      "source": [
        "parameters = {\n",
        "    'iterations': 2000,\n",
        "    'custom_metric': ['NDCG:top=5', 'PFound', 'AverageGain:top=5'],\n",
        "    'verbose': False,\n",
        "    'random_seed': 0,\n",
        "    'metric_period': 50,\n",
        "    #'task_type': 'GPU',\n",
        "    'train_dir': 'ranking_model',\n",
        "    'loss_function': 'YetiRankPairwise'\n",
        "}"
      ]
    },
    {
      "cell_type": "code",
      "execution_count": 32,
      "metadata": {
        "id": "10UIg2PPRDJL",
        "scrolled": true
      },
      "outputs": [
        {
          "data": {
            "text/plain": [
              "<catboost.core.CatBoostRanker at 0x78dcd24b4370>"
            ]
          },
          "execution_count": 32,
          "metadata": {},
          "output_type": "execute_result"
        }
      ],
      "source": [
        "model = CatBoostRanker(**parameters)\n",
        "model.fit(train_with_weights, eval_set=test_with_weights)"
      ]
    },
    {
      "cell_type": "code",
      "execution_count": 36,
      "metadata": {
        "colab": {
          "base_uri": "https://localhost:8080/"
        },
        "id": "uHsxcRIQlXj7",
        "outputId": "ff129c52-9b85-4bde-f88a-b1360f4cccdd"
      },
      "outputs": [
        {
          "data": {
            "text/plain": [
              "0.9152099486815958"
            ]
          },
          "execution_count": 36,
          "metadata": {},
          "output_type": "execute_result"
        }
      ],
      "source": [
        "y_pred = model.predict(X_test)\n",
        "ndcg_score([y_test], [y_pred], k=5)"
      ]
    },
    {
      "cell_type": "code",
      "execution_count": 37,
      "metadata": {
        "colab": {
          "base_uri": "https://localhost:8080/"
        },
        "id": "hKEF3_9XeUbd",
        "outputId": "5a39b802-edf5-43b5-a5a6-2f90ce6ba9bf"
      },
      "outputs": [
        {
          "data": {
            "text/plain": [
              "0.9999999999999999"
            ]
          },
          "execution_count": 37,
          "metadata": {},
          "output_type": "execute_result"
        }
      ],
      "source": [
        "features = df.columns.values[2:]\n",
        "\n",
        "pred = model.predict(df[features])\n",
        "ndcg_score([df['rank']], [pred], k=5)"
      ]
    },
    {
      "cell_type": "code",
      "execution_count": 38,
      "metadata": {
        "id": "GOlQ4oY6aqsd"
      },
      "outputs": [],
      "source": [
        "ids = df['query_id']\n",
        "real_rank = df['rank']"
      ]
    },
    {
      "cell_type": "code",
      "execution_count": 39,
      "metadata": {
        "id": "EbMiYDAOalR8"
      },
      "outputs": [],
      "source": [
        "ans = pd.DataFrame({\"id\": ids, \"rank_pred\": pred*max_relevance, \"rank_real\": real_rank})\n",
        "ans = ans.sort_values(['id', 'rank_pred']).reset_index(drop=True)\n",
        "ans['rank_pred'] = ans.groupby(['id']).cumcount()"
      ]
    },
    {
      "cell_type": "code",
      "execution_count": 41,
      "metadata": {},
      "outputs": [],
      "source": [
        "ans.to_csv('data/result.csv')"
      ]
    },
    {
      "cell_type": "code",
      "execution_count": 90,
      "metadata": {
        "colab": {
          "base_uri": "https://localhost:8080/"
        },
        "id": "SO4_it8q3kKD",
        "outputId": "c00416d3-3b2e-473b-b7a9-ba9c64ec9ac1"
      },
      "outputs": [
        {
          "name": "stdout",
          "output_type": "stream",
          "text": [
            "NDCG@5:  0.9576359832635982\n"
          ]
        }
      ],
      "source": [
        "print(\"NDCG@5: \", ndcg_score([ans['rank_real']], [ans['rank_pred']], k=5))"
      ]
    },
    {
      "cell_type": "code",
      "execution_count": 70,
      "metadata": {},
      "outputs": [],
      "source": [
        "from metrics import precision_at_k, recall_at_k"
      ]
    },
    {
      "cell_type": "code",
      "execution_count": 79,
      "metadata": {},
      "outputs": [],
      "source": [
        "pres = []\n",
        "recall = []\n",
        "\n",
        "for i in range(int(max_relevance)):\n",
        "    an = ans[ans.rank_real == i][['rank_pred', 'rank_real']] == i\n",
        "    pres.append(precision_at_k(df=an, k=5, y_test='rank_real', y_pred='rank_pred'))\n",
        "    recall.append(recall_at_k(df=an, k=5, y_test='rank_real', y_pred='rank_pred'))"
      ]
    },
    {
      "cell_type": "code",
      "execution_count": 89,
      "metadata": {},
      "outputs": [
        {
          "name": "stdout",
          "output_type": "stream",
          "text": [
            "Precision@5:  1.0\n",
            "Recall@5:  0.00326844768361688\n"
          ]
        }
      ],
      "source": [
        "print(\"Precision@5: \", sum(pres)/len(pres))\n",
        "print(\"Recall@5: \", sum(recall)/len(recall))"
      ]
    },
    {
      "cell_type": "code",
      "execution_count": null,
      "metadata": {},
      "outputs": [],
      "source": []
    }
  ],
  "metadata": {
    "accelerator": "GPU",
    "colab": {
      "gpuType": "T4",
      "provenance": []
    },
    "kernelspec": {
      "display_name": "Python 3",
      "name": "python3"
    },
    "language_info": {
      "codemirror_mode": {
        "name": "ipython",
        "version": 3
      },
      "file_extension": ".py",
      "mimetype": "text/x-python",
      "name": "python",
      "nbconvert_exporter": "python",
      "pygments_lexer": "ipython3",
      "version": "3.10.12"
    },
    "widgets": {
      "application/vnd.jupyter.widget-state+json": {
        "c44499a067114176ac5b28d844a6d3e1": {
          "model_module": "catboost-widget",
          "model_module_version": "^1.0.0",
          "model_name": "CatboostWidgetModel",
          "state": {
            "_dom_classes": [],
            "_model_module": "catboost-widget",
            "_model_module_version": "^1.0.0",
            "_model_name": "CatboostWidgetModel",
            "_view_count": null,
            "_view_module": "catboost-widget",
            "_view_module_version": "^1.0.0",
            "_view_name": "CatboostWidgetView",
            "data": {
              "YetiRankPairwise_weigths": {
                "content": {
                  "data": {
                    "iterations": [
                      {
                        "iteration": 0,
                        "learn": [
                          0.3471316387
                        ],
                        "passed_time": 0.02701754159,
                        "remaining_time": 54.00806564,
                        "test": [
                          0.752352862,
                          0.9192467817,
                          0.3519596492
                        ]
                      },
                      {
                        "iteration": 50,
                        "learn": [
                          0.3471316387
                        ],
                        "passed_time": 0.904980652,
                        "remaining_time": 34.58445668,
                        "test": [
                          0.7732697914,
                          0.9723810853,
                          0.3519596492
                        ]
                      },
                      {
                        "iteration": 100,
                        "learn": [
                          0.3471316387
                        ],
                        "passed_time": 1.646286828,
                        "remaining_time": 30.95345234,
                        "test": [
                          0.7740929569,
                          0.9748083328,
                          0.3519596492
                        ]
                      },
                      {
                        "iteration": 150,
                        "learn": [
                          0.3471316387
                        ],
                        "passed_time": 2.38689985,
                        "remaining_time": 29.22766769,
                        "test": [
                          0.7743833706,
                          0.9757910932,
                          0.3519596492
                        ]
                      },
                      {
                        "iteration": 200,
                        "learn": [
                          0.3471316387
                        ],
                        "passed_time": 3.123611606,
                        "remaining_time": 27.95710089,
                        "test": [
                          0.7746396601,
                          0.9769802384,
                          0.3519596492
                        ]
                      },
                      {
                        "iteration": 250,
                        "learn": [
                          0.3471316387
                        ],
                        "passed_time": 4.373208162,
                        "remaining_time": 30.47307201,
                        "test": [
                          0.7745158816,
                          0.97705153,
                          0.3519596492
                        ]
                      },
                      {
                        "iteration": 300,
                        "learn": [
                          0.3471316387
                        ],
                        "passed_time": 5.716475806,
                        "remaining_time": 32.26675214,
                        "test": [
                          0.7749920747,
                          0.9780971798,
                          0.3519596492
                        ]
                      },
                      {
                        "iteration": 350,
                        "learn": [
                          0.3471316387
                        ],
                        "passed_time": 6.982565944,
                        "remaining_time": 32.80413459,
                        "test": [
                          0.7751379728,
                          0.978485812,
                          0.3519596492
                        ]
                      },
                      {
                        "iteration": 400,
                        "learn": [
                          0.3471316387
                        ],
                        "passed_time": 7.720180761,
                        "remaining_time": 30.78446144,
                        "test": [
                          0.7751990386,
                          0.9790307087,
                          0.3519596492
                        ]
                      },
                      {
                        "iteration": 450,
                        "learn": [
                          0.3471316387
                        ],
                        "passed_time": 8.453708251,
                        "remaining_time": 29.03502013,
                        "test": [
                          0.7751826918,
                          0.9789488504,
                          0.3519596492
                        ]
                      },
                      {
                        "iteration": 500,
                        "learn": [
                          0.3471316387
                        ],
                        "passed_time": 9.220713989,
                        "remaining_time": 27.58852349,
                        "test": [
                          0.7752496848,
                          0.979041652,
                          0.3519596492
                        ]
                      },
                      {
                        "iteration": 550,
                        "learn": [
                          0.3471316387
                        ],
                        "passed_time": 9.968627743,
                        "remaining_time": 26.21513902,
                        "test": [
                          0.7751953531,
                          0.9793133551,
                          0.3519596492
                        ]
                      },
                      {
                        "iteration": 600,
                        "learn": [
                          0.3471316387
                        ],
                        "passed_time": 11.06964297,
                        "remaining_time": 25.76777125,
                        "test": [
                          0.7752454984,
                          0.979491144,
                          0.3519596492
                        ]
                      },
                      {
                        "iteration": 650,
                        "learn": [
                          0.3471316387
                        ],
                        "passed_time": 11.81104335,
                        "remaining_time": 24.47480412,
                        "test": [
                          0.7751311684,
                          0.9790988436,
                          0.3519596492
                        ]
                      },
                      {
                        "iteration": 700,
                        "learn": [
                          0.3471316387
                        ],
                        "passed_time": 12.55307963,
                        "remaining_time": 23.26169821,
                        "test": [
                          0.775004904,
                          0.9789037205,
                          0.3519596492
                        ]
                      },
                      {
                        "iteration": 750,
                        "learn": [
                          0.3471316387
                        ],
                        "passed_time": 13.2963122,
                        "remaining_time": 22.11330751,
                        "test": [
                          0.7750719591,
                          0.979113373,
                          0.3519596492
                        ]
                      },
                      {
                        "iteration": 800,
                        "learn": [
                          0.3471316387
                        ],
                        "passed_time": 14.04764253,
                        "remaining_time": 21.02761971,
                        "test": [
                          0.7750749444,
                          0.9791245405,
                          0.3519596492
                        ]
                      },
                      {
                        "iteration": 850,
                        "learn": [
                          0.3471316387
                        ],
                        "passed_time": 14.77355801,
                        "remaining_time": 19.94690735,
                        "test": [
                          0.7751424503,
                          0.9792350188,
                          0.3519596492
                        ]
                      },
                      {
                        "iteration": 900,
                        "learn": [
                          0.3471316387
                        ],
                        "passed_time": 15.51476417,
                        "remaining_time": 18.924224,
                        "test": [
                          0.7752772984,
                          0.9794162387,
                          0.3519596492
                        ]
                      },
                      {
                        "iteration": 950,
                        "learn": [
                          0.3471316387
                        ],
                        "passed_time": 16.2670092,
                        "remaining_time": 17.9433151,
                        "test": [
                          0.7752243047,
                          0.9793764887,
                          0.3519596492
                        ]
                      },
                      {
                        "iteration": 1000,
                        "learn": [
                          0.3471316387
                        ],
                        "passed_time": 17.07573074,
                        "remaining_time": 17.0416134,
                        "test": [
                          0.7752603214,
                          0.9794259007,
                          0.3519596492
                        ]
                      },
                      {
                        "iteration": 1050,
                        "learn": [
                          0.3471316387
                        ],
                        "passed_time": 18.35023553,
                        "remaining_time": 16.56933732,
                        "test": [
                          0.7753503859,
                          0.9795688456,
                          0.3519596492
                        ]
                      },
                      {
                        "iteration": 1100,
                        "learn": [
                          0.3471316387
                        ],
                        "passed_time": 20.2867235,
                        "remaining_time": 16.564727,
                        "test": [
                          0.7752774752,
                          0.9794399966,
                          0.3519596492
                        ]
                      },
                      {
                        "iteration": 1150,
                        "learn": [
                          0.3471316387
                        ],
                        "passed_time": 21.46200405,
                        "remaining_time": 15.83079187,
                        "test": [
                          0.7754583954,
                          0.9801304559,
                          0.3519596492
                        ]
                      },
                      {
                        "iteration": 1200,
                        "learn": [
                          0.3471316387
                        ],
                        "passed_time": 22.20791589,
                        "remaining_time": 14.77445862,
                        "test": [
                          0.7753808714,
                          0.9799702284,
                          0.3519596492
                        ]
                      },
                      {
                        "iteration": 1250,
                        "learn": [
                          0.3471316387
                        ],
                        "passed_time": 22.93988715,
                        "remaining_time": 13.7345927,
                        "test": [
                          0.7753434145,
                          0.9798211274,
                          0.3519596492
                        ]
                      },
                      {
                        "iteration": 1300,
                        "learn": [
                          0.3471316387
                        ],
                        "passed_time": 23.68125455,
                        "remaining_time": 12.72344115,
                        "test": [
                          0.7751396447,
                          0.9783444362,
                          0.3519596492
                        ]
                      },
                      {
                        "iteration": 1350,
                        "learn": [
                          0.3471316387
                        ],
                        "passed_time": 24.43827791,
                        "remaining_time": 11.73977969,
                        "test": [
                          0.7752595931,
                          0.9786169584,
                          0.3519596492
                        ]
                      },
                      {
                        "iteration": 1400,
                        "learn": [
                          0.3471316387
                        ],
                        "passed_time": 25.17388467,
                        "remaining_time": 10.76313841,
                        "test": [
                          0.7751635478,
                          0.9784080083,
                          0.3519596492
                        ]
                      },
                      {
                        "iteration": 1450,
                        "learn": [
                          0.3471316387
                        ],
                        "passed_time": 25.91322669,
                        "remaining_time": 9.80452202,
                        "test": [
                          0.7750898564,
                          0.9783325555,
                          0.3519596492
                        ]
                      },
                      {
                        "iteration": 1500,
                        "learn": [
                          0.3471316387
                        ],
                        "passed_time": 26.64670092,
                        "remaining_time": 8.858563463,
                        "test": [
                          0.775102192,
                          0.9784008842,
                          0.3519596492
                        ]
                      },
                      {
                        "iteration": 1550,
                        "learn": [
                          0.3471316387
                        ],
                        "passed_time": 27.39871341,
                        "remaining_time": 7.931671386,
                        "test": [
                          0.775102192,
                          0.9784008842,
                          0.3519596492
                        ]
                      },
                      {
                        "iteration": 1600,
                        "learn": [
                          0.3471316387
                        ],
                        "passed_time": 28.12258792,
                        "remaining_time": 7.008689932,
                        "test": [
                          0.7751051293,
                          0.9784118723,
                          0.3519596492
                        ]
                      },
                      {
                        "iteration": 1650,
                        "learn": [
                          0.3471316387
                        ],
                        "passed_time": 28.85572413,
                        "remaining_time": 6.099726059,
                        "test": [
                          0.775138338,
                          0.9785070388,
                          0.3519596492
                        ]
                      },
                      {
                        "iteration": 1700,
                        "learn": [
                          0.3471316387
                        ],
                        "passed_time": 29.59198982,
                        "remaining_time": 5.201649004,
                        "test": [
                          0.7751332674,
                          0.9784908839,
                          0.3519596492
                        ]
                      },
                      {
                        "iteration": 1750,
                        "learn": [
                          0.3471316387
                        ],
                        "passed_time": 30.33295227,
                        "remaining_time": 4.313480934,
                        "test": [
                          0.7751682487,
                          0.9786073057,
                          0.3519596492
                        ]
                      },
                      {
                        "iteration": 1800,
                        "learn": [
                          0.3471316387
                        ],
                        "passed_time": 31.6198238,
                        "remaining_time": 3.493806183,
                        "test": [
                          0.7752295777,
                          0.9786897247,
                          0.3519596492
                        ]
                      },
                      {
                        "iteration": 1850,
                        "learn": [
                          0.3471316387
                        ],
                        "passed_time": 33.0784905,
                        "remaining_time": 2.662720197,
                        "test": [
                          0.7753322618,
                          0.978902093,
                          0.3519596492
                        ]
                      },
                      {
                        "iteration": 1900,
                        "learn": [
                          0.3471316387
                        ],
                        "passed_time": 34.26751255,
                        "remaining_time": 1.784578507,
                        "test": [
                          0.7753931677,
                          0.9789839433,
                          0.3519596492
                        ]
                      },
                      {
                        "iteration": 1950,
                        "learn": [
                          0.3471316387
                        ],
                        "passed_time": 35.0059981,
                        "remaining_time": 0.8791870359,
                        "test": [
                          0.7752967171,
                          0.9787930831,
                          0.3519596492
                        ]
                      },
                      {
                        "iteration": 1999,
                        "learn": [
                          0.3471316387
                        ],
                        "passed_time": 35.74027873,
                        "remaining_time": 0,
                        "test": [
                          0.7752967171,
                          0.9787930831,
                          0.3519596492
                        ]
                      }
                    ],
                    "meta": {
                      "iteration_count": 2000,
                      "launch_mode": "Train",
                      "learn_metrics": [
                        {
                          "best_value": "Max",
                          "name": "AverageGain:top=5"
                        }
                      ],
                      "learn_sets": [
                        "learn"
                      ],
                      "name": "experiment",
                      "parameters": "",
                      "test_metrics": [
                        {
                          "best_value": "Max",
                          "name": "PFound"
                        },
                        {
                          "best_value": "Max",
                          "name": "NDCG:top=5;type=Base"
                        },
                        {
                          "best_value": "Max",
                          "name": "AverageGain:top=5"
                        }
                      ],
                      "test_sets": [
                        "test"
                      ]
                    }
                  },
                  "passed_iterations": 1999,
                  "total_iterations": 2000
                },
                "name": "YetiRankPairwise_weigths",
                "path": "YetiRankPairwise_weigths"
              }
            },
            "layout": "IPY_MODEL_832f92342a734cad9dcb04d99e4a1783"
          }
        }
      }
    }
  },
  "nbformat": 4,
  "nbformat_minor": 0
}
